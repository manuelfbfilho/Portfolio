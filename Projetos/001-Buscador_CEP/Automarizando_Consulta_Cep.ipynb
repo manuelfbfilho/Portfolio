{
 "cells": [
  {
   "cell_type": "code",
   "execution_count": 1,
   "metadata": {},
   "outputs": [],
   "source": [
    "from tkinter import *\n",
    "\n",
    "janela = Tk()\n",
    "janela.geometry(\"500x300\")\n",
    "janela.title(\"Busca CEP\")\n",
    "\n",
    "texto1 = Label(janela, text=\"Eu amo Python\", font=\"20\")\n",
    "texto1.pack()\n",
    "\n",
    "botao1 = Button(janela, text=\"Enviar\").pack()\n",
    "\n",
    "janela.mainloop()"
   ]
  },
  {
   "cell_type": "code",
   "execution_count": 1,
   "metadata": {},
   "outputs": [
    {
     "name": "stdout",
     "output_type": "stream",
     "text": [
      "{'cep': '51011-530', 'logradouro': 'Rua Irene Ramos Gomes de Mattos', 'complemento': '', 'bairro': 'Pina', 'localidade': 'Recife', 'uf': 'PE', 'ibge': '2611606', 'gia': '', 'ddd': '81', 'siafi': '2531'}\n"
     ]
    }
   ],
   "source": [
    "import requests\n",
    "\n",
    "url = 'http://viacep.com.br/ws/51011530/json/'\n",
    "response = requests.request(\"GET\", url)\n",
    "print(response.json())"
   ]
  },
  {
   "cell_type": "code",
   "execution_count": null,
   "metadata": {},
   "outputs": [],
   "source": []
  }
 ],
 "metadata": {
  "kernelspec": {
   "display_name": "base",
   "language": "python",
   "name": "python3"
  },
  "language_info": {
   "codemirror_mode": {
    "name": "ipython",
    "version": 3
   },
   "file_extension": ".py",
   "mimetype": "text/x-python",
   "name": "python",
   "nbconvert_exporter": "python",
   "pygments_lexer": "ipython3",
   "version": "3.11.5"
  }
 },
 "nbformat": 4,
 "nbformat_minor": 2
}
