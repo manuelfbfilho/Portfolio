{
 "cells": [
  {
   "cell_type": "code",
   "execution_count": null,
   "id": "373cae75",
   "metadata": {},
   "outputs": [],
   "source": [
    "import pandas as pd\n",
    "import numpy as np\n",
    "from sklearn.ensemble import RandomForestClassifier\n",
    "from sklearn.model_selection import train_test_split\n",
    "\n",
    "# Carregar os dados históricos da Mega-Sena\n",
    "# Substitua 'megasena.csv' pelo caminho do arquivo com os dados históricos\n",
    "data = pd.read_csv('C:\\Users\\Dell\\Downloads\\Aulas_Python\\Loterias\\Historico\\megasena.csv')\n",
    "\n",
    "# Contar a frequência de cada número\n",
    "numbers = range(1, 61)  # Números de 1 a 60\n",
    "frequency = {num: 0 for num in numbers}\n",
    "\n",
    "for index, row in data.iterrows():\n",
    "    for num in row.values:\n",
    "        if num in frequency:\n",
    "            frequency[num] += 1\n",
    "\n",
    "# Top 10 números mais e menos sorteados\n",
    "most_frequent = sorted(frequency.items(), key=lambda x: x[1], reverse=True)[:10]\n",
    "least_frequent = sorted(frequency.items(), key=lambda x: x[1])[:10]\n",
    "\n",
    "print(\"Top 10 números mais sorteados:\", most_frequent)\n",
    "print(\"Top 10 números menos sorteados:\", least_frequent)\n",
    "\n",
    "# Gerar sugestões de jogos\n",
    "suggested_games = []\n",
    "for _ in range(5):\n",
    "    game = np.random.choice(list(frequency.keys()), 6, replace=False)\n",
    "    suggested_games.append(sorted(game))\n",
    "\n",
    "print(\"Sugestões de jogos:\", suggested_games)\n",
    "\n",
    "# Modelo de machine learning para prever tendências\n",
    "# Exemplo básico: prever se um número será sorteado com base em dados históricos\n",
    "X = data.iloc[:, :-1]  # Dados de entrada\n",
    "y = data.iloc[:, -1]   # Resultado (número sorteado)\n",
    "\n",
    "X_train, X_test, y_train, y_test = train_test_split(X, y, test_size=0.2, random_state=42)\n",
    "\n",
    "model = RandomForestClassifier()\n",
    "model.fit(X_train, y_train)\n",
    "\n",
    "accuracy = model.score(X_test, y_test)\n",
    "print(\"Acurácia do modelo:\", accuracy)\n"
   ]
  },
  {
   "cell_type": "markdown",
   "id": "eadaded4",
   "metadata": {},
   "source": [
    "### Como usar o código:\n",
    "\n",
    "1. Substitua 'megasena.csv' pelo arquivo contendo os dados históricos dos sorteios.\n",
    "\n",
    "2. O código calcula frequências, sugere jogos e treina um modelo básico de machine learning.\n",
    "\n",
    "3. Você pode adaptá-lo para outros tipos de análises, como prever tendências em diferentes contextos."
   ]
  }
 ],
 "metadata": {
  "kernelspec": {
   "display_name": "Python 3",
   "language": "python",
   "name": "python3"
  },
  "language_info": {
   "name": "python",
   "version": "3.12.4"
  }
 },
 "nbformat": 4,
 "nbformat_minor": 5
}
