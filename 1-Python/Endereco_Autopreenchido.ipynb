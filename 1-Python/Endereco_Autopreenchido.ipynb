{
 "cells": [
  {
   "cell_type": "code",
   "execution_count": 4,
   "metadata": {},
   "outputs": [
    {
     "name": "stdout",
     "output_type": "stream",
     "text": [
      "\n",
      "Dados cadastrados:\n",
      "Nome: Manuel Fernandes Baptista Filho\n",
      "Email: manuelfbfilho@gmail.com\n",
      "Endereço: Rua Irene Ramos Gomes de Mattos, 68, Apto 902, Pina - Recife/PE\n",
      "CEP: 51011530\n",
      "\n"
     ]
    }
   ],
   "source": [
    "import requests\n",
    "\n",
    "def get_address_from_cep(cep):\n",
    "    response = requests.get(f'https://viacep.com.br/ws/{cep}/json/')\n",
    "    address_data = response.json()\n",
    "    return address_data\n",
    "\n",
    "def register_user():\n",
    "    user_data = {}\n",
    "    user_data['name'] = input('Digite seu nome: ')\n",
    "    user_data['email'] = input('Digite seu email: ')\n",
    "    user_data['cep'] = input('Digite seu CEP: ')\n",
    "    \n",
    "    address_data = get_address_from_cep(user_data['cep'])\n",
    "    \n",
    "    user_data['address'] = address_data['logradouro']\n",
    "    user_data['neighborhood'] = address_data['bairro']\n",
    "    user_data['city'] = address_data['localidade']\n",
    "    user_data['state'] = address_data['uf']\n",
    "    user_data['number'] = input('Digite o Número do Imóvel: ')\n",
    "    user_data['additional'] = input('Digite informações adicionais (ex: número do apartamento): ')\n",
    "    \n",
    "    return user_data\n",
    "\n",
    "user = register_user()\n",
    "print(f\"\"\"\n",
    "Dados cadastrados:\n",
    "Nome: {user['name']}\n",
    "Email: {user['email']}\n",
    "Endereço: {user['address']}, {user['number']}, {user['additional']}, {user['neighborhood']} - {user['city']}/{user['state']}\n",
    "CEP: {user['cep']}\n",
    "\"\"\")\n"
   ]
  }
 ],
 "metadata": {
  "kernelspec": {
   "display_name": "base",
   "language": "python",
   "name": "python3"
  },
  "language_info": {
   "codemirror_mode": {
    "name": "ipython",
    "version": 3
   },
   "file_extension": ".py",
   "mimetype": "text/x-python",
   "name": "python",
   "nbconvert_exporter": "python",
   "pygments_lexer": "ipython3",
   "version": "3.11.5"
  }
 },
 "nbformat": 4,
 "nbformat_minor": 2
}
