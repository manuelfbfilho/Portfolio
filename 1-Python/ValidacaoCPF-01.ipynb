{
 "cells": [
  {
   "cell_type": "code",
   "execution_count": null,
   "metadata": {},
   "outputs": [],
   "source": [
    "import re\n",
    "\n",
    "def validador():\n",
    "    cpf = str(input(\"Digite um CPF para ser validado ao lado. >>>\"))\n",
    "\n",
    "    #Retira apenas os dígitos do CPF, ignorando os caracteres especiais\n",
    "    numeros = [int(digito) for digito in cpf if digito.isdigit()]\n",
    "    \n",
    "    formatacao = False\n",
    "    quant_digitos = False\n",
    "    validacao1 = False\n",
    "    validacao2 = False\n",
    "\n",
    "    #Verifica a estrutura do CPF (111.222.333-44)\n",
    "    if re.match(r'\\d{3}\\.\\d{3}\\.\\d{3}-\\d{2}', cpf):\n",
    "        formatacao = True\n",
    "\n",
    "    if len(numeros) == 11:\n",
    "        quant_digitos = True\n",
    "    \n",
    "        soma_produtos = sum(a*b for a, b in zip (numeros[0:9], range (10, 1, -1)))\n",
    "        digito_esperado = (soma_produtos * 10 % 11) % 10\n",
    "        if numeros[9] == digito_esperado:\n",
    "            validacao1 = True\n",
    "\n",
    "        soma_produtos1 = sum(a*b for a, b in zip(numeros [0:10], range (11, 1, -1)))\n",
    "        digito_esperado1 = (soma_produtos1 *10 % 11) % 10\n",
    "        if numeros[10] == digito_esperado1:\n",
    "            validacao2 = True\n",
    "\n",
    "        if quant_digitos == True and formatacao == True and validacao1 == True and validacao2 == True:\n",
    "            print(f\"O CPF {cpf} é válido.\")\n",
    "        else:\n",
    "            print(f\"O CPF {cpf} não é válido... Tente outro CPF...\")\n",
    "\n",
    "    else:\n",
    "        print(print(f\"O CPF {cpf} não é válido... Tente outro CPF...\"))\n",
    "\n",
    "validador()"
   ]
  }
 ],
 "metadata": {
  "language_info": {
   "name": "python"
  }
 },
 "nbformat": 4,
 "nbformat_minor": 2
}
