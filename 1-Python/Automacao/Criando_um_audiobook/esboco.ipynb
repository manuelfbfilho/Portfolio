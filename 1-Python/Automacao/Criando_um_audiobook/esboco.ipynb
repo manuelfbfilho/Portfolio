{
 "cells": [
  {
   "cell_type": "code",
   "execution_count": 20,
   "metadata": {},
   "outputs": [],
   "source": [
    "import pyttsx3"
   ]
  },
  {
   "cell_type": "code",
   "execution_count": 21,
   "metadata": {},
   "outputs": [],
   "source": [
    "engine = pyttsx3.init()\n",
    "voices = engine.getProperty('voices')"
   ]
  },
  {
   "cell_type": "code",
   "execution_count": 40,
   "metadata": {},
   "outputs": [],
   "source": [
    "engine.setProperty(\"voice\", \"Brazil\")\n",
    "\n",
    "# Para voz masculina, você pode usar:\n",
    "# engine.setProperty('voice', voices[0].id)\n",
    "\n",
    "# Para voz feminina, você pode usar:\n",
    "# engine.setProperty('voice', voices[1].id)"
   ]
  },
  {
   "cell_type": "code",
   "execution_count": 41,
   "metadata": {},
   "outputs": [],
   "source": [
    "engine.say('Meu nome é Manuel')\n",
    "engine.say('Eu estou estudando Python')\n",
    "engine.say('Python é demais!')"
   ]
  },
  {
   "cell_type": "code",
   "execution_count": 42,
   "metadata": {},
   "outputs": [],
   "source": [
    "engine.runAndWait()"
   ]
  },
  {
   "cell_type": "code",
   "execution_count": 6,
   "metadata": {},
   "outputs": [],
   "source": [
    "engine.save_to_file('Meu nome é Manuel', 'teste.mp3')"
   ]
  },
  {
   "cell_type": "code",
   "execution_count": 7,
   "metadata": {},
   "outputs": [],
   "source": [
    "engine.runAndWait()"
   ]
  },
  {
   "cell_type": "code",
   "execution_count": 31,
   "metadata": {},
   "outputs": [],
   "source": [
    "import pyttsx3\n",
    "\n",
    "engine = pyttsx3.init()\n",
    "voices = engine.getProperty('voices')\n",
    "\n",
    "# Procurando pela voz em português do Brasil\n",
    "for voice in voices:\n",
    "    if 'brazil' in voice.languages:\n",
    "        if voice.gender == 'VoiceGenderMale':\n",
    "            engine.setProperty('voice', voice.id)  # Para voz masculina\n",
    "        elif voice.gender == 'VoiceGenderFemale':\n",
    "            engine.setProperty('voice', voice.id)  # Para voz feminina\n",
    "\n",
    "engine.say(\"Olá, mundo!\")\n",
    "engine.runAndWait()"
   ]
  },
  {
   "cell_type": "markdown",
   "metadata": {},
   "source": [
    "### Extraindo texto do livro infantil"
   ]
  },
  {
   "cell_type": "code",
   "execution_count": 43,
   "metadata": {},
   "outputs": [],
   "source": [
    "import pdfplumber"
   ]
  },
  {
   "cell_type": "code",
   "execution_count": 44,
   "metadata": {},
   "outputs": [],
   "source": [
    "pdf = pdfplumber.open('O elefante em apuros.pdf')"
   ]
  },
  {
   "cell_type": "code",
   "execution_count": 45,
   "metadata": {},
   "outputs": [],
   "source": [
    "paginas = pdf.pages[2:-3]"
   ]
  },
  {
   "cell_type": "code",
   "execution_count": 46,
   "metadata": {},
   "outputs": [],
   "source": [
    "texto_livro = ''\n",
    "for pagina in paginas:\n",
    "   texto_livro +=  pagina.extract_text()"
   ]
  },
  {
   "cell_type": "code",
   "execution_count": 51,
   "metadata": {},
   "outputs": [
    {
     "name": "stdout",
     "output_type": "stream",
     "text": [
      "O grande elefante estava andando na savana africana,quando viu algo se mexendo no chão e foi ver o que era.De repente, ele pisou em um chão mole.Os pés do elefante grudaram no chão, e ele começou a afundar.\n",
      "– Oh, não! Pisei numa areia movediça! – suspirou o elefante.\n",
      "– Por favor, alguém me ajude!Um hipopótamo ouviu o grito e resolveu ajudar o elefante.Ele puxou, puxou... mas o elefante não desatolou.Um rinoceronte passava por ali e resolveu ajudar.O rinoceronte puxou o hipopótamo, que puxou o elefante.\n",
      "Puxaram, puxaram, mas não conseguiram desatolar o elefante.Uma girafa passava por ali e resolveu ajudar.A girafa puxou o rinoceronte, que puxou o hipopótamo, que puxou o elefante.\n",
      "Puxaram, puxaram, mas não desatolaram o elefante.Um leão passou por ali e resolveu ajudar.O leão puxou a girafa, que puxou o rinoceronte, que puxou o hipopótamo, que\n",
      "puxou o elefante. Puxaram, puxaram, mas não conseguiram desatolar o elefante.Uma hiena passou por ali, deu uma risada, e resolveu ajudar.A hiena puxou o leão, que puxou a girafa, que puxou o rinoceronte, que puxou\n",
      "o hipopótamo, que puxou o elefante. Puxaram, puxaram, mas não conseguiram\n",
      "desatolar o elefante.Um jovem suricato passou por ali e quis ajudar. Mas pensou: eu sou\n",
      "muito pequeno, não vou conseguir ajudar a puxar um elefante.Além disso, estou procurando a minha mãe. Ele gritou:\n",
      "– Mamãe, onde você está? – Mas a mãe dele não respondeu.Quem respondeu foi o elefante, que já estava quase inteiro afundado na\n",
      "areia movediça e estava desesperado. – Por favor, me ajude! – ele gritou.\n",
      "Então o jovem suricato resolveu ajudar.O suricato puxou a hiena, que puxou o leão, que puxou a girafa, que\n",
      "puxou o rinoceronte, que puxou o hipopótamo, que puxou o elefante.\n",
      "Puxaram, puxaram, mas não conseguiram desatolar o elefante.O suricato tinha dois irmãos, que também estavam procurando a mãe.\n",
      "Eles resolveram ajudar.O suricato puxou o suricato, que puxou o suricato, que puxou a hiena, que\n",
      "puxou o leão, que puxou a girafa, que puxou o rinoceronte, que puxou o\n",
      "hipopótamo, que puxou o elefante. Puxaram, puxaram, com toda força...E finalmente conseguiram desatolar o elefante.– Eba! – todo mundo gritou. O elefante ficou muito feliz!\n",
      "Todos os animais ficaram muito alegres!Principalmente os jovens suricatos, quando viram alguém\n",
      "agarrado ao rabo do elefante. Era a mamãe suricato!Ela também tinha afundado na areia movediça\n",
      "e só conseguiu se salvar graças ao esforço de todos os animais.\n"
     ]
    }
   ],
   "source": [
    "print(texto_livro)"
   ]
  },
  {
   "cell_type": "code",
   "execution_count": 48,
   "metadata": {},
   "outputs": [],
   "source": [
    "texto_final = texto_livro.replace('.', '. ').replace(',', ', ')"
   ]
  },
  {
   "cell_type": "code",
   "execution_count": 53,
   "metadata": {},
   "outputs": [
    {
     "name": "stdout",
     "output_type": "stream",
     "text": [
      "O grande elefante estava andando na savana africana, quando viu algo se mexendo no chão e foi ver o que era. De repente,  ele pisou em um chão mole. Os pés do elefante grudaram no chão,  e ele começou a afundar. \n",
      "– Oh,  não! Pisei numa areia movediça! – suspirou o elefante. \n",
      "– Por favor,  alguém me ajude!Um hipopótamo ouviu o grito e resolveu ajudar o elefante. Ele puxou,  puxou. . .  mas o elefante não desatolou. Um rinoceronte passava por ali e resolveu ajudar. O rinoceronte puxou o hipopótamo,  que puxou o elefante. \n",
      "Puxaram,  puxaram,  mas não conseguiram desatolar o elefante. Uma girafa passava por ali e resolveu ajudar. A girafa puxou o rinoceronte,  que puxou o hipopótamo,  que puxou o elefante. \n",
      "Puxaram,  puxaram,  mas não desatolaram o elefante. Um leão passou por ali e resolveu ajudar. O leão puxou a girafa,  que puxou o rinoceronte,  que puxou o hipopótamo,  que\n",
      "puxou o elefante.  Puxaram,  puxaram,  mas não conseguiram desatolar o elefante. Uma hiena passou por ali,  deu uma risada,  e resolveu ajudar. A hiena puxou o leão,  que puxou a girafa,  que puxou o rinoceronte,  que puxou\n",
      "o hipopótamo,  que puxou o elefante.  Puxaram,  puxaram,  mas não conseguiram\n",
      "desatolar o elefante. Um jovem suricato passou por ali e quis ajudar.  Mas pensou: eu sou\n",
      "muito pequeno,  não vou conseguir ajudar a puxar um elefante. Além disso,  estou procurando a minha mãe.  Ele gritou:\n",
      "– Mamãe,  onde você está? – Mas a mãe dele não respondeu. Quem respondeu foi o elefante,  que já estava quase inteiro afundado na\n",
      "areia movediça e estava desesperado.  – Por favor,  me ajude! – ele gritou. \n",
      "Então o jovem suricato resolveu ajudar. O suricato puxou a hiena,  que puxou o leão,  que puxou a girafa,  que\n",
      "puxou o rinoceronte,  que puxou o hipopótamo,  que puxou o elefante. \n",
      "Puxaram,  puxaram,  mas não conseguiram desatolar o elefante. O suricato tinha dois irmãos,  que também estavam procurando a mãe. \n",
      "Eles resolveram ajudar. O suricato puxou o suricato,  que puxou o suricato,  que puxou a hiena,  que\n",
      "puxou o leão,  que puxou a girafa,  que puxou o rinoceronte,  que puxou o\n",
      "hipopótamo,  que puxou o elefante.  Puxaram,  puxaram,  com toda força. . . E finalmente conseguiram desatolar o elefante. – Eba! – todo mundo gritou.  O elefante ficou muito feliz!\n",
      "Todos os animais ficaram muito alegres!Principalmente os jovens suricatos,  quando viram alguém\n",
      "agarrado ao rabo do elefante.  Era a mamãe suricato!Ela também tinha afundado na areia movediça\n",
      "e só conseguiu se salvar graças ao esforço de todos os animais. \n"
     ]
    }
   ],
   "source": [
    "print(texto_final)"
   ]
  },
  {
   "cell_type": "code",
   "execution_count": null,
   "metadata": {},
   "outputs": [],
   "source": []
  }
 ],
 "metadata": {
  "interpreter": {
   "hash": "798903440e6502ea2551b31e28712bcf9c98357760774ec44533a1ffb4d2d3b8"
  },
  "kernelspec": {
   "display_name": "Python 3.9.7 ('venv': venv)",
   "language": "python",
   "name": "python3"
  },
  "language_info": {
   "codemirror_mode": {
    "name": "ipython",
    "version": 3
   },
   "file_extension": ".py",
   "mimetype": "text/x-python",
   "name": "python",
   "nbconvert_exporter": "python",
   "pygments_lexer": "ipython3",
   "version": "3.9.7"
  },
  "orig_nbformat": 4
 },
 "nbformat": 4,
 "nbformat_minor": 2
}
